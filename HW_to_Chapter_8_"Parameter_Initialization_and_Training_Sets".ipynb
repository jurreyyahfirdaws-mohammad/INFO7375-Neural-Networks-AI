{
  "nbformat": 4,
  "nbformat_minor": 0,
  "metadata": {
    "colab": {
      "provenance": [],
      "authorship_tag": "ABX9TyN2xrz71jDb8f91VTvyvgC9",
      "include_colab_link": true
    },
    "kernelspec": {
      "name": "python3",
      "display_name": "Python 3"
    },
    "language_info": {
      "name": "python"
    }
  },
  "cells": [
    {
      "cell_type": "markdown",
      "metadata": {
        "id": "view-in-github",
        "colab_type": "text"
      },
      "source": [
        "<a href=\"https://colab.research.google.com/github/jurreyyahfirdaws-mohammad/INFO7375-Neural-Networks-AI/blob/main/HW_to_Chapter_8_%22Parameter_Initialization_and_Training_Sets%22.ipynb\" target=\"_parent\"><img src=\"https://colab.research.google.com/assets/colab-badge.svg\" alt=\"Open In Colab\"/></a>"
      ]
    },
    {
      "cell_type": "code",
      "execution_count": 1,
      "metadata": {
        "colab": {
          "base_uri": "https://localhost:8080/"
        },
        "id": "Rn67ZJ-ni_ym",
        "outputId": "f398e2e9-7458-4de0-98ff-daad30a1b581"
      },
      "outputs": [
        {
          "output_type": "stream",
          "name": "stdout",
          "text": [
            "Requirement already satisfied: Pillow in /usr/local/lib/python3.10/dist-packages (9.4.0)\n"
          ]
        }
      ],
      "source": [
        "!pip install Pillow"
      ]
    },
    {
      "cell_type": "code",
      "source": [
        "from sklearn.model_selection import train_test_split"
      ],
      "metadata": {
        "id": "deltPrXTjGPc"
      },
      "execution_count": 2,
      "outputs": []
    },
    {
      "cell_type": "code",
      "source": [
        "from PIL import Image, ImageDraw, ImageFont"
      ],
      "metadata": {
        "id": "ESnOMbF5jHEZ"
      },
      "execution_count": 3,
      "outputs": []
    },
    {
      "cell_type": "code",
      "source": [
        "# generate images\n",
        "def generate_image_with_pillow(label, id, directory=\"images\"):\n",
        "    image_size = (64, 64)  # Define image size and colors\n",
        "    img = Image.new('RGB', image_size, color=(73, 109, 137) if label == 'cat' else (255, 200, 200))\n",
        "    d = ImageDraw.Draw(img)\n",
        "    text = f\"{label[:3].upper()}{id}\"\n",
        "    font = ImageFont.load_default()\n",
        "    textwidth, textheight = d.textsize(text, font)\n",
        "    x = (image_size[0] - textwidth) / 2\n",
        "    y = (image_size[1] - textheight) / 2\n",
        "    d.text((x, y), text, fill=(255, 255, 0), font=font)\n",
        "\n",
        "    #directory\n",
        "    import os\n",
        "    os.makedirs(directory, exist_ok=True)\n",
        "    img.save(f\"{directory}/{label}_{id}.png\")"
      ],
      "metadata": {
        "id": "Blr_6GLujKq2"
      },
      "execution_count": 8,
      "outputs": []
    },
    {
      "cell_type": "code",
      "source": [
        "#dataset with 100 labeled images (50 cats, 50 dogs)\n",
        "dataset = [('img{}_cat'.format(i), 'cat') for i in range(50)] + \\\n",
        "          [('img{}_dog'.format(i), 'dog') for i in range(50, 100)]\n",
        "\n",
        "# Split dataset into training and temp sets\n",
        "train_data, temp_data = train_test_split(dataset, train_size=0.7, random_state=42)\n",
        "\n",
        "# Splitting the temp data into validation and testing sets\n",
        "validation_data, test_data = train_test_split(temp_data, train_size=0.5, random_state=42)\n",
        "\n",
        "# Output the sizes of each dataset to verify proportions\n",
        "print(f\"Total dataset size: {len(dataset)}\")\n",
        "print(f\"Training set size: {len(train_data)} - {len(train_data) / len(dataset) * 100:.2f}%\")\n",
        "print(f\"Validation set size: {len(validation_data)} - {len(validation_data) / len(dataset) * 100:.2f}%\")\n",
        "print(f\"Testing set size: {len(test_data)} - {len(test_data) / len(dataset) * 100:.2f}%\")\n",
        "\n",
        "# Generate images for the training data\n",
        "for id, label in train_data:\n",
        "    generate_image_with_pillow(label, id.split('_')[0])\n",
        "\n",
        "print(\"\\nGenerated images for training data.\")\n"
      ],
      "metadata": {
        "colab": {
          "base_uri": "https://localhost:8080/"
        },
        "id": "E-It9KCpjOOy",
        "outputId": "ed67a008-48df-4319-c389-b76732c8bb49"
      },
      "execution_count": 10,
      "outputs": [
        {
          "output_type": "stream",
          "name": "stdout",
          "text": [
            "Total dataset size: 100\n",
            "Training set size: 70 - 70.00%\n",
            "Validation set size: 15 - 15.00%\n",
            "Testing set size: 15 - 15.00%\n",
            "\n",
            "Generated images for training data.\n"
          ]
        },
        {
          "output_type": "stream",
          "name": "stderr",
          "text": [
            "<ipython-input-8-cc3272b6c2e5>:8: DeprecationWarning: textsize is deprecated and will be removed in Pillow 10 (2023-07-01). Use textbbox or textlength instead.\n",
            "  textwidth, textheight = d.textsize(text, font)\n",
            "<ipython-input-8-cc3272b6c2e5>:8: DeprecationWarning: textsize is deprecated and will be removed in Pillow 10 (2023-07-01). Use textbbox or textlength instead.\n",
            "  textwidth, textheight = d.textsize(text, font)\n",
            "<ipython-input-8-cc3272b6c2e5>:8: DeprecationWarning: textsize is deprecated and will be removed in Pillow 10 (2023-07-01). Use textbbox or textlength instead.\n",
            "  textwidth, textheight = d.textsize(text, font)\n",
            "<ipython-input-8-cc3272b6c2e5>:8: DeprecationWarning: textsize is deprecated and will be removed in Pillow 10 (2023-07-01). Use textbbox or textlength instead.\n",
            "  textwidth, textheight = d.textsize(text, font)\n",
            "<ipython-input-8-cc3272b6c2e5>:8: DeprecationWarning: textsize is deprecated and will be removed in Pillow 10 (2023-07-01). Use textbbox or textlength instead.\n",
            "  textwidth, textheight = d.textsize(text, font)\n",
            "<ipython-input-8-cc3272b6c2e5>:8: DeprecationWarning: textsize is deprecated and will be removed in Pillow 10 (2023-07-01). Use textbbox or textlength instead.\n",
            "  textwidth, textheight = d.textsize(text, font)\n",
            "<ipython-input-8-cc3272b6c2e5>:8: DeprecationWarning: textsize is deprecated and will be removed in Pillow 10 (2023-07-01). Use textbbox or textlength instead.\n",
            "  textwidth, textheight = d.textsize(text, font)\n",
            "<ipython-input-8-cc3272b6c2e5>:8: DeprecationWarning: textsize is deprecated and will be removed in Pillow 10 (2023-07-01). Use textbbox or textlength instead.\n",
            "  textwidth, textheight = d.textsize(text, font)\n",
            "<ipython-input-8-cc3272b6c2e5>:8: DeprecationWarning: textsize is deprecated and will be removed in Pillow 10 (2023-07-01). Use textbbox or textlength instead.\n",
            "  textwidth, textheight = d.textsize(text, font)\n",
            "<ipython-input-8-cc3272b6c2e5>:8: DeprecationWarning: textsize is deprecated and will be removed in Pillow 10 (2023-07-01). Use textbbox or textlength instead.\n",
            "  textwidth, textheight = d.textsize(text, font)\n",
            "<ipython-input-8-cc3272b6c2e5>:8: DeprecationWarning: textsize is deprecated and will be removed in Pillow 10 (2023-07-01). Use textbbox or textlength instead.\n",
            "  textwidth, textheight = d.textsize(text, font)\n",
            "<ipython-input-8-cc3272b6c2e5>:8: DeprecationWarning: textsize is deprecated and will be removed in Pillow 10 (2023-07-01). Use textbbox or textlength instead.\n",
            "  textwidth, textheight = d.textsize(text, font)\n",
            "<ipython-input-8-cc3272b6c2e5>:8: DeprecationWarning: textsize is deprecated and will be removed in Pillow 10 (2023-07-01). Use textbbox or textlength instead.\n",
            "  textwidth, textheight = d.textsize(text, font)\n",
            "<ipython-input-8-cc3272b6c2e5>:8: DeprecationWarning: textsize is deprecated and will be removed in Pillow 10 (2023-07-01). Use textbbox or textlength instead.\n",
            "  textwidth, textheight = d.textsize(text, font)\n",
            "<ipython-input-8-cc3272b6c2e5>:8: DeprecationWarning: textsize is deprecated and will be removed in Pillow 10 (2023-07-01). Use textbbox or textlength instead.\n",
            "  textwidth, textheight = d.textsize(text, font)\n",
            "<ipython-input-8-cc3272b6c2e5>:8: DeprecationWarning: textsize is deprecated and will be removed in Pillow 10 (2023-07-01). Use textbbox or textlength instead.\n",
            "  textwidth, textheight = d.textsize(text, font)\n",
            "<ipython-input-8-cc3272b6c2e5>:8: DeprecationWarning: textsize is deprecated and will be removed in Pillow 10 (2023-07-01). Use textbbox or textlength instead.\n",
            "  textwidth, textheight = d.textsize(text, font)\n",
            "<ipython-input-8-cc3272b6c2e5>:8: DeprecationWarning: textsize is deprecated and will be removed in Pillow 10 (2023-07-01). Use textbbox or textlength instead.\n",
            "  textwidth, textheight = d.textsize(text, font)\n",
            "<ipython-input-8-cc3272b6c2e5>:8: DeprecationWarning: textsize is deprecated and will be removed in Pillow 10 (2023-07-01). Use textbbox or textlength instead.\n",
            "  textwidth, textheight = d.textsize(text, font)\n",
            "<ipython-input-8-cc3272b6c2e5>:8: DeprecationWarning: textsize is deprecated and will be removed in Pillow 10 (2023-07-01). Use textbbox or textlength instead.\n",
            "  textwidth, textheight = d.textsize(text, font)\n",
            "<ipython-input-8-cc3272b6c2e5>:8: DeprecationWarning: textsize is deprecated and will be removed in Pillow 10 (2023-07-01). Use textbbox or textlength instead.\n",
            "  textwidth, textheight = d.textsize(text, font)\n",
            "<ipython-input-8-cc3272b6c2e5>:8: DeprecationWarning: textsize is deprecated and will be removed in Pillow 10 (2023-07-01). Use textbbox or textlength instead.\n",
            "  textwidth, textheight = d.textsize(text, font)\n",
            "<ipython-input-8-cc3272b6c2e5>:8: DeprecationWarning: textsize is deprecated and will be removed in Pillow 10 (2023-07-01). Use textbbox or textlength instead.\n",
            "  textwidth, textheight = d.textsize(text, font)\n",
            "<ipython-input-8-cc3272b6c2e5>:8: DeprecationWarning: textsize is deprecated and will be removed in Pillow 10 (2023-07-01). Use textbbox or textlength instead.\n",
            "  textwidth, textheight = d.textsize(text, font)\n",
            "<ipython-input-8-cc3272b6c2e5>:8: DeprecationWarning: textsize is deprecated and will be removed in Pillow 10 (2023-07-01). Use textbbox or textlength instead.\n",
            "  textwidth, textheight = d.textsize(text, font)\n",
            "<ipython-input-8-cc3272b6c2e5>:8: DeprecationWarning: textsize is deprecated and will be removed in Pillow 10 (2023-07-01). Use textbbox or textlength instead.\n",
            "  textwidth, textheight = d.textsize(text, font)\n",
            "<ipython-input-8-cc3272b6c2e5>:8: DeprecationWarning: textsize is deprecated and will be removed in Pillow 10 (2023-07-01). Use textbbox or textlength instead.\n",
            "  textwidth, textheight = d.textsize(text, font)\n",
            "<ipython-input-8-cc3272b6c2e5>:8: DeprecationWarning: textsize is deprecated and will be removed in Pillow 10 (2023-07-01). Use textbbox or textlength instead.\n",
            "  textwidth, textheight = d.textsize(text, font)\n",
            "<ipython-input-8-cc3272b6c2e5>:8: DeprecationWarning: textsize is deprecated and will be removed in Pillow 10 (2023-07-01). Use textbbox or textlength instead.\n",
            "  textwidth, textheight = d.textsize(text, font)\n",
            "<ipython-input-8-cc3272b6c2e5>:8: DeprecationWarning: textsize is deprecated and will be removed in Pillow 10 (2023-07-01). Use textbbox or textlength instead.\n",
            "  textwidth, textheight = d.textsize(text, font)\n",
            "<ipython-input-8-cc3272b6c2e5>:8: DeprecationWarning: textsize is deprecated and will be removed in Pillow 10 (2023-07-01). Use textbbox or textlength instead.\n",
            "  textwidth, textheight = d.textsize(text, font)\n",
            "<ipython-input-8-cc3272b6c2e5>:8: DeprecationWarning: textsize is deprecated and will be removed in Pillow 10 (2023-07-01). Use textbbox or textlength instead.\n",
            "  textwidth, textheight = d.textsize(text, font)\n",
            "<ipython-input-8-cc3272b6c2e5>:8: DeprecationWarning: textsize is deprecated and will be removed in Pillow 10 (2023-07-01). Use textbbox or textlength instead.\n",
            "  textwidth, textheight = d.textsize(text, font)\n",
            "<ipython-input-8-cc3272b6c2e5>:8: DeprecationWarning: textsize is deprecated and will be removed in Pillow 10 (2023-07-01). Use textbbox or textlength instead.\n",
            "  textwidth, textheight = d.textsize(text, font)\n",
            "<ipython-input-8-cc3272b6c2e5>:8: DeprecationWarning: textsize is deprecated and will be removed in Pillow 10 (2023-07-01). Use textbbox or textlength instead.\n",
            "  textwidth, textheight = d.textsize(text, font)\n",
            "<ipython-input-8-cc3272b6c2e5>:8: DeprecationWarning: textsize is deprecated and will be removed in Pillow 10 (2023-07-01). Use textbbox or textlength instead.\n",
            "  textwidth, textheight = d.textsize(text, font)\n",
            "<ipython-input-8-cc3272b6c2e5>:8: DeprecationWarning: textsize is deprecated and will be removed in Pillow 10 (2023-07-01). Use textbbox or textlength instead.\n",
            "  textwidth, textheight = d.textsize(text, font)\n",
            "<ipython-input-8-cc3272b6c2e5>:8: DeprecationWarning: textsize is deprecated and will be removed in Pillow 10 (2023-07-01). Use textbbox or textlength instead.\n",
            "  textwidth, textheight = d.textsize(text, font)\n",
            "<ipython-input-8-cc3272b6c2e5>:8: DeprecationWarning: textsize is deprecated and will be removed in Pillow 10 (2023-07-01). Use textbbox or textlength instead.\n",
            "  textwidth, textheight = d.textsize(text, font)\n",
            "<ipython-input-8-cc3272b6c2e5>:8: DeprecationWarning: textsize is deprecated and will be removed in Pillow 10 (2023-07-01). Use textbbox or textlength instead.\n",
            "  textwidth, textheight = d.textsize(text, font)\n",
            "<ipython-input-8-cc3272b6c2e5>:8: DeprecationWarning: textsize is deprecated and will be removed in Pillow 10 (2023-07-01). Use textbbox or textlength instead.\n",
            "  textwidth, textheight = d.textsize(text, font)\n",
            "<ipython-input-8-cc3272b6c2e5>:8: DeprecationWarning: textsize is deprecated and will be removed in Pillow 10 (2023-07-01). Use textbbox or textlength instead.\n",
            "  textwidth, textheight = d.textsize(text, font)\n",
            "<ipython-input-8-cc3272b6c2e5>:8: DeprecationWarning: textsize is deprecated and will be removed in Pillow 10 (2023-07-01). Use textbbox or textlength instead.\n",
            "  textwidth, textheight = d.textsize(text, font)\n",
            "<ipython-input-8-cc3272b6c2e5>:8: DeprecationWarning: textsize is deprecated and will be removed in Pillow 10 (2023-07-01). Use textbbox or textlength instead.\n",
            "  textwidth, textheight = d.textsize(text, font)\n",
            "<ipython-input-8-cc3272b6c2e5>:8: DeprecationWarning: textsize is deprecated and will be removed in Pillow 10 (2023-07-01). Use textbbox or textlength instead.\n",
            "  textwidth, textheight = d.textsize(text, font)\n",
            "<ipython-input-8-cc3272b6c2e5>:8: DeprecationWarning: textsize is deprecated and will be removed in Pillow 10 (2023-07-01). Use textbbox or textlength instead.\n",
            "  textwidth, textheight = d.textsize(text, font)\n",
            "<ipython-input-8-cc3272b6c2e5>:8: DeprecationWarning: textsize is deprecated and will be removed in Pillow 10 (2023-07-01). Use textbbox or textlength instead.\n",
            "  textwidth, textheight = d.textsize(text, font)\n",
            "<ipython-input-8-cc3272b6c2e5>:8: DeprecationWarning: textsize is deprecated and will be removed in Pillow 10 (2023-07-01). Use textbbox or textlength instead.\n",
            "  textwidth, textheight = d.textsize(text, font)\n",
            "<ipython-input-8-cc3272b6c2e5>:8: DeprecationWarning: textsize is deprecated and will be removed in Pillow 10 (2023-07-01). Use textbbox or textlength instead.\n",
            "  textwidth, textheight = d.textsize(text, font)\n",
            "<ipython-input-8-cc3272b6c2e5>:8: DeprecationWarning: textsize is deprecated and will be removed in Pillow 10 (2023-07-01). Use textbbox or textlength instead.\n",
            "  textwidth, textheight = d.textsize(text, font)\n",
            "<ipython-input-8-cc3272b6c2e5>:8: DeprecationWarning: textsize is deprecated and will be removed in Pillow 10 (2023-07-01). Use textbbox or textlength instead.\n",
            "  textwidth, textheight = d.textsize(text, font)\n",
            "<ipython-input-8-cc3272b6c2e5>:8: DeprecationWarning: textsize is deprecated and will be removed in Pillow 10 (2023-07-01). Use textbbox or textlength instead.\n",
            "  textwidth, textheight = d.textsize(text, font)\n",
            "<ipython-input-8-cc3272b6c2e5>:8: DeprecationWarning: textsize is deprecated and will be removed in Pillow 10 (2023-07-01). Use textbbox or textlength instead.\n",
            "  textwidth, textheight = d.textsize(text, font)\n",
            "<ipython-input-8-cc3272b6c2e5>:8: DeprecationWarning: textsize is deprecated and will be removed in Pillow 10 (2023-07-01). Use textbbox or textlength instead.\n",
            "  textwidth, textheight = d.textsize(text, font)\n",
            "<ipython-input-8-cc3272b6c2e5>:8: DeprecationWarning: textsize is deprecated and will be removed in Pillow 10 (2023-07-01). Use textbbox or textlength instead.\n",
            "  textwidth, textheight = d.textsize(text, font)\n",
            "<ipython-input-8-cc3272b6c2e5>:8: DeprecationWarning: textsize is deprecated and will be removed in Pillow 10 (2023-07-01). Use textbbox or textlength instead.\n",
            "  textwidth, textheight = d.textsize(text, font)\n",
            "<ipython-input-8-cc3272b6c2e5>:8: DeprecationWarning: textsize is deprecated and will be removed in Pillow 10 (2023-07-01). Use textbbox or textlength instead.\n",
            "  textwidth, textheight = d.textsize(text, font)\n",
            "<ipython-input-8-cc3272b6c2e5>:8: DeprecationWarning: textsize is deprecated and will be removed in Pillow 10 (2023-07-01). Use textbbox or textlength instead.\n",
            "  textwidth, textheight = d.textsize(text, font)\n",
            "<ipython-input-8-cc3272b6c2e5>:8: DeprecationWarning: textsize is deprecated and will be removed in Pillow 10 (2023-07-01). Use textbbox or textlength instead.\n",
            "  textwidth, textheight = d.textsize(text, font)\n",
            "<ipython-input-8-cc3272b6c2e5>:8: DeprecationWarning: textsize is deprecated and will be removed in Pillow 10 (2023-07-01). Use textbbox or textlength instead.\n",
            "  textwidth, textheight = d.textsize(text, font)\n",
            "<ipython-input-8-cc3272b6c2e5>:8: DeprecationWarning: textsize is deprecated and will be removed in Pillow 10 (2023-07-01). Use textbbox or textlength instead.\n",
            "  textwidth, textheight = d.textsize(text, font)\n",
            "<ipython-input-8-cc3272b6c2e5>:8: DeprecationWarning: textsize is deprecated and will be removed in Pillow 10 (2023-07-01). Use textbbox or textlength instead.\n",
            "  textwidth, textheight = d.textsize(text, font)\n",
            "<ipython-input-8-cc3272b6c2e5>:8: DeprecationWarning: textsize is deprecated and will be removed in Pillow 10 (2023-07-01). Use textbbox or textlength instead.\n",
            "  textwidth, textheight = d.textsize(text, font)\n",
            "<ipython-input-8-cc3272b6c2e5>:8: DeprecationWarning: textsize is deprecated and will be removed in Pillow 10 (2023-07-01). Use textbbox or textlength instead.\n",
            "  textwidth, textheight = d.textsize(text, font)\n",
            "<ipython-input-8-cc3272b6c2e5>:8: DeprecationWarning: textsize is deprecated and will be removed in Pillow 10 (2023-07-01). Use textbbox or textlength instead.\n",
            "  textwidth, textheight = d.textsize(text, font)\n",
            "<ipython-input-8-cc3272b6c2e5>:8: DeprecationWarning: textsize is deprecated and will be removed in Pillow 10 (2023-07-01). Use textbbox or textlength instead.\n",
            "  textwidth, textheight = d.textsize(text, font)\n",
            "<ipython-input-8-cc3272b6c2e5>:8: DeprecationWarning: textsize is deprecated and will be removed in Pillow 10 (2023-07-01). Use textbbox or textlength instead.\n",
            "  textwidth, textheight = d.textsize(text, font)\n",
            "<ipython-input-8-cc3272b6c2e5>:8: DeprecationWarning: textsize is deprecated and will be removed in Pillow 10 (2023-07-01). Use textbbox or textlength instead.\n",
            "  textwidth, textheight = d.textsize(text, font)\n",
            "<ipython-input-8-cc3272b6c2e5>:8: DeprecationWarning: textsize is deprecated and will be removed in Pillow 10 (2023-07-01). Use textbbox or textlength instead.\n",
            "  textwidth, textheight = d.textsize(text, font)\n",
            "<ipython-input-8-cc3272b6c2e5>:8: DeprecationWarning: textsize is deprecated and will be removed in Pillow 10 (2023-07-01). Use textbbox or textlength instead.\n",
            "  textwidth, textheight = d.textsize(text, font)\n"
          ]
        }
      ]
    },
    {
      "cell_type": "code",
      "source": [
        "from sklearn.model_selection import train_test_split\n",
        "from PIL import Image, ImageDraw, ImageFont\n",
        "\n",
        "# Function to generate images with Pillow\n",
        "def generate_image_with_pillow(label, id, directory=\"images\"):\n",
        "    image_size = (64, 64)  # Small size for demonstration\n",
        "    img = Image.new('RGB', image_size, color=(73, 109, 137) if label == 'cat' else (255, 200, 200))\n",
        "    d = ImageDraw.Draw(img)\n",
        "    text = f\"{label[:3].upper()}{id}\"\n",
        "    font = ImageFont.load_default()\n",
        "    textwidth, textheight = d.textsize(text, font)\n",
        "    x = (image_size[0] - textwidth) / 2\n",
        "    y = (image_size[1] - textheight) / 2\n",
        "    d.text((x, y), text, fill=(255, 255, 0), font=font)\n",
        "\n",
        "    # Ensure directory exists\n",
        "    import os\n",
        "    os.makedirs(directory, exist_ok=True)\n",
        "    img.save(f\"{directory}/{label}_{id}.png\")\n",
        "\n",
        "# Simulate a dataset with 100 labeled images (50 cats, 50 dogs)\n",
        "dataset = [('img{}_cat'.format(i), 'cat') for i in range(50)] + \\\n",
        "          [('img{}_dog'.format(i), 'dog') for i in range(50, 100)]\n",
        "\n",
        "# Split dataset into training and temp sets (temp will be further split into validation and testing)\n",
        "train_data, temp_data = train_test_split(dataset, train_size=0.7, random_state=42)\n",
        "\n",
        "# Split the temp data into validation and testing sets\n",
        "validation_data, test_data = train_test_split(temp_data, train_size=0.5, random_state=42)  # 0.5 of temp is 15% of the whole\n",
        "\n",
        "# Display the sizes of each set to verify proportions\n",
        "print(f\"Total dataset size: {len(dataset)}\")\n",
        "print(f\"Training set size: {len(train_data)} - {len(train_data) / len(dataset) * 100:.2f}%\")\n",
        "print(f\"Validation set size: {len(validation_data)} - {len(validation_data) / len(dataset) * 100:.2f}%\")\n",
        "print(f\"Testing set size: {len(test_data)} - {len(test_data) / len(dataset) * 100:.2f}%\")\n",
        "\n",
        "# Generate images for the training data\n",
        "for id, label in train_data:\n",
        "    generate_image_with_pillow(label, id.split('_')[0])\n",
        "\n",
        "print(\"\\nGenerated images for training data.\")\n"
      ],
      "metadata": {
        "id": "nOBqGMWjjDS2"
      },
      "execution_count": null,
      "outputs": []
    }
  ]
}