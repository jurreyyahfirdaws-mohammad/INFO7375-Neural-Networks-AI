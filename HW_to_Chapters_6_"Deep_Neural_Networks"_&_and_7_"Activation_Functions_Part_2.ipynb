{
  "nbformat": 4,
  "nbformat_minor": 0,
  "metadata": {
    "colab": {
      "provenance": [],
      "authorship_tag": "ABX9TyPefrZkTMMmRGOJ0geaiLqn",
      "include_colab_link": true
    },
    "kernelspec": {
      "name": "python3",
      "display_name": "Python 3"
    },
    "language_info": {
      "name": "python"
    }
  },
  "cells": [
    {
      "cell_type": "markdown",
      "metadata": {
        "id": "view-in-github",
        "colab_type": "text"
      },
      "source": [
        "<a href=\"https://colab.research.google.com/github/jurreyyahfirdaws-mohammad/INFO7375-Neural-Networks-AI/blob/main/HW_to_Chapters_6_%22Deep_Neural_Networks%22_%26_and_7_%22Activation_Functions_Part_2.ipynb\" target=\"_parent\"><img src=\"https://colab.research.google.com/assets/colab-badge.svg\" alt=\"Open In Colab\"/></a>"
      ]
    },
    {
      "cell_type": "markdown",
      "source": [
        "2. Develop the class structure and forward propagation including the loss (cost) function implementation for a deep (multilayer) neural network"
      ],
      "metadata": {
        "id": "kYybCmhgZgdw"
      }
    },
    {
      "cell_type": "code",
      "source": [
        "import numpy as np\n"
      ],
      "metadata": {
        "id": "JuCrJ6N3Uugv"
      },
      "execution_count": 5,
      "outputs": []
    },
    {
      "cell_type": "code",
      "source": [
        "class Model:\n",
        "    def __init__(self, layer_dimensions):\n",
        "        self.layer_dimensions = layer_dimensions\n",
        "        self.num_layers = len(layer_dimensions)\n",
        "        self.initialize_model_parameters()\n",
        "\n",
        "    def initialize_model_parameters(self):\n",
        "        self.weights = [np.random.randn(in_size, out_size) for in_size, out_size in zip(self.layer_dimensions[:-1], self.layer_dimensions[1:])]\n",
        "        self.biases = [np.zeros((1, out_size)) for out_size in self.layer_dimensions[1:]]\n",
        "        self.activations = None\n",
        "        self.z_values = None\n",
        "\n",
        "    def apply_sigmoid_activation_function(self, z):\n",
        "        return 1 / (1 + np.exp(-z))\n",
        "\n",
        "    def forward_propagation(self, X):\n",
        "        self.activations = [X]\n",
        "        self.z_values = []\n",
        "\n",
        "        for w, b in zip(self.weights, self.biases):\n",
        "            z = np.dot(self.activations[-1], w) + b\n",
        "            self.z_values.append(z)\n",
        "            activation = self.apply_sigmoid_activation_function(z)\n",
        "            self.activations.append(activation)\n",
        "\n",
        "        return self.activations[-1]\n",
        "\n",
        "    def c_loss(self, y_t, y_pred):\n",
        "        m = y_t.shape[0]\n",
        "        return np.sum((y_pred - y_t) ** 2) / (2 * m)\n",
        "\n",
        "# For Example:\n",
        "input_size = 2\n",
        "hidden_size = 3\n",
        "output_size = 1\n",
        "\n",
        "# For example, here I have implemented a deep learning model with 1 input layer, 1 hidden layer, and 1 output layer\n",
        "model = Model([input_size, hidden_size, output_size])\n",
        "\n",
        "# input data\n",
        "X = np.random.rand(4, input_size)\n",
        "\n",
        "# forward propagation\n",
        "output = model.forward_propagation(X)\n",
        "\n",
        "# true labels\n",
        "y_t = np.random.rand(4, output_size)\n",
        "\n",
        "# Calculate Loss\n",
        "loss = model.c_loss (y_t, output)\n",
        "print(\"Loss:\", loss)\n"
      ],
      "metadata": {
        "colab": {
          "base_uri": "https://localhost:8080/"
        },
        "id": "g0dMPx2ITRAk",
        "outputId": "90ab1ae4-c0fd-479f-daf1-08a6d18cb093"
      },
      "execution_count": 9,
      "outputs": [
        {
          "output_type": "stream",
          "name": "stdout",
          "text": [
            "Loss: 0.04311877683607237\n"
          ]
        }
      ]
    }
  ]
}