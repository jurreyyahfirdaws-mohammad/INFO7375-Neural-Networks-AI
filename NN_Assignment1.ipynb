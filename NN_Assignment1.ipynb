{
  "nbformat": 4,
  "nbformat_minor": 0,
  "metadata": {
    "colab": {
      "provenance": [],
      "authorship_tag": "ABX9TyNEP5Ne8p0L6kxaGCrHpOw3",
      "include_colab_link": true
    },
    "kernelspec": {
      "name": "python3",
      "display_name": "Python 3"
    },
    "language_info": {
      "name": "python"
    }
  },
  "cells": [
    {
      "cell_type": "markdown",
      "metadata": {
        "id": "view-in-github",
        "colab_type": "text"
      },
      "source": [
        "<a href=\"https://colab.research.google.com/github/jurreyyahfirdaws-mohammad/INFO7375-Neural-Networks-AI/blob/main/NN_Assignment1.ipynb\" target=\"_parent\"><img src=\"https://colab.research.google.com/assets/colab-badge.svg\" alt=\"Open In Colab\"/></a>"
      ]
    },
    {
      "cell_type": "markdown",
      "source": [
        "# Chapter 1 \"Brain, Neurons, and Models\"\n",
        "##Programming Assignment\n",
        "Develop software to simulate the McCulloch and Pitts model of artificial neuron. The simulated neuron takes input and generates output according to the activation function. Make sure that your simulation software is designed well to allow for further enhancements\n",
        "\n",
        "\n"
      ],
      "metadata": {
        "id": "O7hblhMVZtcL"
      }
    },
    {
      "cell_type": "code",
      "execution_count": 6,
      "metadata": {
        "id": "Kt8xWZaGYoS0"
      },
      "outputs": [],
      "source": [
        "class MPN:\n",
        "    def __init__(self, weights, threshold):\n",
        "        self.weights = weights\n",
        "        self.threshold = threshold\n",
        "\n",
        "    def act(self, inputs):\n",
        "      weightedsum = sum(weight * input_v for weight, input_v in zip(self.weights, inputs))\n",
        "      return 1 if weightedsum >= self.threshold else 0"
      ]
    },
    {
      "cell_type": "code",
      "source": [
        "# input the weight and threshold values\n",
        "neuron = MPN(weights=[2, 4], threshold=5)"
      ],
      "metadata": {
        "id": "q8J8XVBjYuym"
      },
      "execution_count": 7,
      "outputs": []
    },
    {
      "cell_type": "code",
      "source": [
        "# Input values\n",
        "inputs = [1, 1]"
      ],
      "metadata": {
        "id": "uTQeiCUkYxe-"
      },
      "execution_count": 8,
      "outputs": []
    },
    {
      "cell_type": "code",
      "source": [
        "# output of the neuron\n",
        "output = neuron.act(inputs)"
      ],
      "metadata": {
        "id": "0nG0uz3fYy0G"
      },
      "execution_count": 9,
      "outputs": []
    },
    {
      "cell_type": "code",
      "source": [
        "# Print the output\n",
        "print(f\"Output: {output}\")"
      ],
      "metadata": {
        "colab": {
          "base_uri": "https://localhost:8080/"
        },
        "id": "k_d4KXA8Y0ao",
        "outputId": "47098957-c1e5-4665-fe65-91d0c235fcad"
      },
      "execution_count": 10,
      "outputs": [
        {
          "output_type": "stream",
          "name": "stdout",
          "text": [
            "Output: 1\n"
          ]
        }
      ]
    }
  ]
}